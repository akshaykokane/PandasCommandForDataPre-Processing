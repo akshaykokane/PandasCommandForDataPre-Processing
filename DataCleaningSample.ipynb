{
 "cells": [
  {
   "cell_type": "code",
   "execution_count": 138,
   "metadata": {},
   "outputs": [],
   "source": [
    "import pandas as pd\n",
    "\n",
    "dataset = pd.read_csv(\"https://raw.githubusercontent.com/MicrosoftLearning/mslearn-dp100/main/data/diabetes.csv\")"
   ]
  },
  {
   "cell_type": "code",
   "execution_count": 139,
   "metadata": {},
   "outputs": [
    {
     "data": {
      "text/plain": [
       "(10049, 10)"
      ]
     },
     "execution_count": 139,
     "metadata": {},
     "output_type": "execute_result"
    }
   ],
   "source": [
    "dataset.shape"
   ]
  },
  {
   "cell_type": "code",
   "execution_count": 140,
   "metadata": {},
   "outputs": [
    {
     "name": "stdout",
     "output_type": "stream",
     "text": [
      "<class 'pandas.core.frame.DataFrame'>\n",
      "RangeIndex: 10049 entries, 0 to 10048\n",
      "Data columns (total 10 columns):\n",
      " #   Column                  Non-Null Count  Dtype  \n",
      "---  ------                  --------------  -----  \n",
      " 0   PatientID               10049 non-null  int64  \n",
      " 1   Pregnancies             10049 non-null  int64  \n",
      " 2   PlasmaGlucose           10049 non-null  int64  \n",
      " 3   DiastolicBloodPressure  10049 non-null  int64  \n",
      " 4   TricepsThickness        10049 non-null  int64  \n",
      " 5   SerumInsulin            10049 non-null  int64  \n",
      " 6   BMI                     10049 non-null  float64\n",
      " 7   DiabetesPedigree        10046 non-null  float64\n",
      " 8   Age                     10042 non-null  float64\n",
      " 9   Diabetic                10049 non-null  int64  \n",
      "dtypes: float64(3), int64(7)\n",
      "memory usage: 785.2 KB\n"
     ]
    }
   ],
   "source": [
    "dataset.info()"
   ]
  },
  {
   "cell_type": "code",
   "execution_count": 141,
   "metadata": {},
   "outputs": [
    {
     "data": {
      "text/html": [
       "<div>\n",
       "<style scoped>\n",
       "    .dataframe tbody tr th:only-of-type {\n",
       "        vertical-align: middle;\n",
       "    }\n",
       "\n",
       "    .dataframe tbody tr th {\n",
       "        vertical-align: top;\n",
       "    }\n",
       "\n",
       "    .dataframe thead th {\n",
       "        text-align: right;\n",
       "    }\n",
       "</style>\n",
       "<table border=\"1\" class=\"dataframe\">\n",
       "  <thead>\n",
       "    <tr style=\"text-align: right;\">\n",
       "      <th></th>\n",
       "      <th>PatientID</th>\n",
       "      <th>Pregnancies</th>\n",
       "      <th>PlasmaGlucose</th>\n",
       "      <th>DiastolicBloodPressure</th>\n",
       "      <th>TricepsThickness</th>\n",
       "      <th>SerumInsulin</th>\n",
       "      <th>BMI</th>\n",
       "      <th>DiabetesPedigree</th>\n",
       "      <th>Age</th>\n",
       "      <th>Diabetic</th>\n",
       "    </tr>\n",
       "  </thead>\n",
       "  <tbody>\n",
       "    <tr>\n",
       "      <th>count</th>\n",
       "      <td>1.004900e+04</td>\n",
       "      <td>10049.000000</td>\n",
       "      <td>10049.000000</td>\n",
       "      <td>10049.000000</td>\n",
       "      <td>10049.000000</td>\n",
       "      <td>10049.000000</td>\n",
       "      <td>10049.000000</td>\n",
       "      <td>10046.000000</td>\n",
       "      <td>10042.000000</td>\n",
       "      <td>10049.000000</td>\n",
       "    </tr>\n",
       "    <tr>\n",
       "      <th>mean</th>\n",
       "      <td>1.502282e+06</td>\n",
       "      <td>3.254553</td>\n",
       "      <td>107.931934</td>\n",
       "      <td>71.195144</td>\n",
       "      <td>28.811325</td>\n",
       "      <td>139.198726</td>\n",
       "      <td>31.567130</td>\n",
       "      <td>0.400813</td>\n",
       "      <td>30.143199</td>\n",
       "      <td>0.334362</td>\n",
       "    </tr>\n",
       "    <tr>\n",
       "      <th>std</th>\n",
       "      <td>2.890477e+05</td>\n",
       "      <td>3.405031</td>\n",
       "      <td>32.847798</td>\n",
       "      <td>16.815581</td>\n",
       "      <td>14.502575</td>\n",
       "      <td>133.646681</td>\n",
       "      <td>9.802690</td>\n",
       "      <td>0.381916</td>\n",
       "      <td>12.105008</td>\n",
       "      <td>0.471790</td>\n",
       "    </tr>\n",
       "    <tr>\n",
       "      <th>min</th>\n",
       "      <td>1.000038e+06</td>\n",
       "      <td>0.000000</td>\n",
       "      <td>44.000000</td>\n",
       "      <td>24.000000</td>\n",
       "      <td>7.000000</td>\n",
       "      <td>14.000000</td>\n",
       "      <td>18.200807</td>\n",
       "      <td>0.078044</td>\n",
       "      <td>21.000000</td>\n",
       "      <td>0.000000</td>\n",
       "    </tr>\n",
       "    <tr>\n",
       "      <th>25%</th>\n",
       "      <td>1.252296e+06</td>\n",
       "      <td>0.000000</td>\n",
       "      <td>84.000000</td>\n",
       "      <td>58.000000</td>\n",
       "      <td>15.000000</td>\n",
       "      <td>39.000000</td>\n",
       "      <td>21.250908</td>\n",
       "      <td>0.136954</td>\n",
       "      <td>22.000000</td>\n",
       "      <td>0.000000</td>\n",
       "    </tr>\n",
       "    <tr>\n",
       "      <th>50%</th>\n",
       "      <td>1.504516e+06</td>\n",
       "      <td>2.000000</td>\n",
       "      <td>104.000000</td>\n",
       "      <td>72.000000</td>\n",
       "      <td>31.000000</td>\n",
       "      <td>84.000000</td>\n",
       "      <td>31.918049</td>\n",
       "      <td>0.199656</td>\n",
       "      <td>24.000000</td>\n",
       "      <td>0.000000</td>\n",
       "    </tr>\n",
       "    <tr>\n",
       "      <th>75%</th>\n",
       "      <td>1.754457e+06</td>\n",
       "      <td>6.000000</td>\n",
       "      <td>129.000000</td>\n",
       "      <td>85.000000</td>\n",
       "      <td>41.000000</td>\n",
       "      <td>197.000000</td>\n",
       "      <td>39.336129</td>\n",
       "      <td>0.620545</td>\n",
       "      <td>35.000000</td>\n",
       "      <td>1.000000</td>\n",
       "    </tr>\n",
       "    <tr>\n",
       "      <th>max</th>\n",
       "      <td>1.999997e+06</td>\n",
       "      <td>14.000000</td>\n",
       "      <td>766.000000</td>\n",
       "      <td>117.000000</td>\n",
       "      <td>92.000000</td>\n",
       "      <td>796.000000</td>\n",
       "      <td>56.034628</td>\n",
       "      <td>2.301594</td>\n",
       "      <td>77.000000</td>\n",
       "      <td>1.000000</td>\n",
       "    </tr>\n",
       "  </tbody>\n",
       "</table>\n",
       "</div>"
      ],
      "text/plain": [
       "          PatientID   Pregnancies  PlasmaGlucose  DiastolicBloodPressure  \\\n",
       "count  1.004900e+04  10049.000000   10049.000000            10049.000000   \n",
       "mean   1.502282e+06      3.254553     107.931934               71.195144   \n",
       "std    2.890477e+05      3.405031      32.847798               16.815581   \n",
       "min    1.000038e+06      0.000000      44.000000               24.000000   \n",
       "25%    1.252296e+06      0.000000      84.000000               58.000000   \n",
       "50%    1.504516e+06      2.000000     104.000000               72.000000   \n",
       "75%    1.754457e+06      6.000000     129.000000               85.000000   \n",
       "max    1.999997e+06     14.000000     766.000000              117.000000   \n",
       "\n",
       "       TricepsThickness  SerumInsulin           BMI  DiabetesPedigree  \\\n",
       "count      10049.000000  10049.000000  10049.000000      10046.000000   \n",
       "mean          28.811325    139.198726     31.567130          0.400813   \n",
       "std           14.502575    133.646681      9.802690          0.381916   \n",
       "min            7.000000     14.000000     18.200807          0.078044   \n",
       "25%           15.000000     39.000000     21.250908          0.136954   \n",
       "50%           31.000000     84.000000     31.918049          0.199656   \n",
       "75%           41.000000    197.000000     39.336129          0.620545   \n",
       "max           92.000000    796.000000     56.034628          2.301594   \n",
       "\n",
       "                Age      Diabetic  \n",
       "count  10042.000000  10049.000000  \n",
       "mean      30.143199      0.334362  \n",
       "std       12.105008      0.471790  \n",
       "min       21.000000      0.000000  \n",
       "25%       22.000000      0.000000  \n",
       "50%       24.000000      0.000000  \n",
       "75%       35.000000      1.000000  \n",
       "max       77.000000      1.000000  "
      ]
     },
     "execution_count": 141,
     "metadata": {},
     "output_type": "execute_result"
    }
   ],
   "source": [
    "dataset.describe()"
   ]
  },
  {
   "cell_type": "code",
   "execution_count": 142,
   "metadata": {},
   "outputs": [
    {
     "data": {
      "text/plain": [
       "PatientID                 0\n",
       "Pregnancies               0\n",
       "PlasmaGlucose             0\n",
       "DiastolicBloodPressure    0\n",
       "TricepsThickness          0\n",
       "SerumInsulin              0\n",
       "BMI                       0\n",
       "DiabetesPedigree          3\n",
       "Age                       7\n",
       "Diabetic                  0\n",
       "dtype: int64"
      ]
     },
     "execution_count": 142,
     "metadata": {},
     "output_type": "execute_result"
    }
   ],
   "source": [
    "dataset.isna().sum()"
   ]
  },
  {
   "cell_type": "code",
   "execution_count": null,
   "metadata": {},
   "outputs": [],
   "source": []
  },
  {
   "cell_type": "code",
   "execution_count": 143,
   "metadata": {},
   "outputs": [],
   "source": [
    "dataset[\"Age\"] = dataset[\"Age\"].fillna(30)"
   ]
  },
  {
   "cell_type": "code",
   "execution_count": 144,
   "metadata": {},
   "outputs": [
    {
     "data": {
      "text/plain": [
       "PatientID                 0\n",
       "Pregnancies               0\n",
       "PlasmaGlucose             0\n",
       "DiastolicBloodPressure    0\n",
       "TricepsThickness          0\n",
       "SerumInsulin              0\n",
       "BMI                       0\n",
       "DiabetesPedigree          3\n",
       "Age                       0\n",
       "Diabetic                  0\n",
       "dtype: int64"
      ]
     },
     "execution_count": 144,
     "metadata": {},
     "output_type": "execute_result"
    }
   ],
   "source": [
    "dataset.isna().sum()"
   ]
  },
  {
   "cell_type": "code",
   "execution_count": 145,
   "metadata": {},
   "outputs": [
    {
     "data": {
      "text/plain": [
       "90"
      ]
     },
     "execution_count": 145,
     "metadata": {},
     "output_type": "execute_result"
    }
   ],
   "source": [
    "len(dataset[dataset.duplicated(['PatientID'])])"
   ]
  },
  {
   "cell_type": "code",
   "execution_count": 146,
   "metadata": {},
   "outputs": [],
   "source": [
    "dataset = dataset.drop_duplicates(subset=['PatientID'], keep='first')"
   ]
  },
  {
   "cell_type": "code",
   "execution_count": 122,
   "metadata": {},
   "outputs": [],
   "source": [
    "dataset = dataset.drop_duplicates() # if row have all columns na "
   ]
  },
  {
   "cell_type": "code",
   "execution_count": 147,
   "metadata": {},
   "outputs": [
    {
     "data": {
      "text/plain": [
       "9959"
      ]
     },
     "execution_count": 147,
     "metadata": {},
     "output_type": "execute_result"
    }
   ],
   "source": [
    "len(dataset)"
   ]
  },
  {
   "cell_type": "code",
   "execution_count": 124,
   "metadata": {},
   "outputs": [],
   "source": [
    "import matplotlib.pyplot as plt"
   ]
  },
  {
   "cell_type": "code",
   "execution_count": 148,
   "metadata": {},
   "outputs": [
    {
     "data": {
      "image/png": "[encoded data removed]",
      "text/plain": [
       "<Figure size 432x288 with 1 Axes>"
      ]
     },
     "metadata": {
      "needs_background": "light"
     },
     "output_type": "display_data"
    }
   ],
   "source": [
    "ax = plt.gca()\n",
    "\n",
    "dataset.plot(kind='scatter',x='PatientID',y='PlasmaGlucose',ax=ax, color='blue')\n",
    "#dataset.plot(kind='scatter',x='PatientID',y='TricepsThickness', color='red', ax=ax)\n",
    "\n",
    "plt.show()"
   ]
  },
  {
   "cell_type": "code",
   "execution_count": 149,
   "metadata": {},
   "outputs": [],
   "source": [
    "dataset = dataset.drop(dataset[dataset[\"PlasmaGlucose\"]>400].index)"
   ]
  },
  {
   "cell_type": "code",
   "execution_count": 150,
   "metadata": {},
   "outputs": [
    {
     "data": {
      "image/png": "[encoded data removed]",
      "text/plain": [
       "<Figure size 432x288 with 1 Axes>"
      ]
     },
     "metadata": {
      "needs_background": "light"
     },
     "output_type": "display_data"
    }
   ],
   "source": [
    "ax = plt.gca()\n",
    "\n",
    "dataset.plot(kind='scatter',x='PatientID',y='PlasmaGlucose',ax=ax, color='blue')\n",
    "#dataset.plot(kind='scatter',x='PatientID',y='TricepsThickness', color='red', ax=ax)\n",
    "\n",
    "plt.show()"
   ]
  },
  {
   "cell_type": "code",
   "execution_count": 151,
   "metadata": {},
   "outputs": [],
   "source": [
    "import numpy as np\n",
    "dataset[\"PlasmaGlucose\"] = np.log2(dataset[\"PlasmaGlucose\"])"
   ]
  },
  {
   "cell_type": "code",
   "execution_count": 133,
   "metadata": {},
   "outputs": [
    {
     "data": {
      "text/html": [
       "<div>\n",
       "<style scoped>\n",
       "    .dataframe tbody tr th:only-of-type {\n",
       "        vertical-align: middle;\n",
       "    }\n",
       "\n",
       "    .dataframe tbody tr th {\n",
       "        vertical-align: top;\n",
       "    }\n",
       "\n",
       "    .dataframe thead th {\n",
       "        text-align: right;\n",
       "    }\n",
       "</style>\n",
       "<table border=\"1\" class=\"dataframe\">\n",
       "  <thead>\n",
       "    <tr style=\"text-align: right;\">\n",
       "      <th></th>\n",
       "      <th>PatientID</th>\n",
       "      <th>Pregnancies</th>\n",
       "      <th>PlasmaGlucose</th>\n",
       "      <th>DiastolicBloodPressure</th>\n",
       "      <th>TricepsThickness</th>\n",
       "      <th>SerumInsulin</th>\n",
       "      <th>BMI</th>\n",
       "      <th>DiabetesPedigree</th>\n",
       "      <th>Age</th>\n",
       "      <th>Diabetic</th>\n",
       "    </tr>\n",
       "  </thead>\n",
       "  <tbody>\n",
       "    <tr>\n",
       "      <th>0</th>\n",
       "      <td>1354778</td>\n",
       "      <td>0</td>\n",
       "      <td>7.417853</td>\n",
       "      <td>80</td>\n",
       "      <td>34</td>\n",
       "      <td>23</td>\n",
       "      <td>43.509726</td>\n",
       "      <td>NaN</td>\n",
       "      <td>21.0</td>\n",
       "      <td>0</td>\n",
       "    </tr>\n",
       "    <tr>\n",
       "      <th>1</th>\n",
       "      <td>1147438</td>\n",
       "      <td>8</td>\n",
       "      <td>6.523562</td>\n",
       "      <td>93</td>\n",
       "      <td>47</td>\n",
       "      <td>36</td>\n",
       "      <td>21.240576</td>\n",
       "      <td>NaN</td>\n",
       "      <td>23.0</td>\n",
       "      <td>0</td>\n",
       "    </tr>\n",
       "    <tr>\n",
       "      <th>2</th>\n",
       "      <td>1640031</td>\n",
       "      <td>7</td>\n",
       "      <td>6.845490</td>\n",
       "      <td>47</td>\n",
       "      <td>52</td>\n",
       "      <td>35</td>\n",
       "      <td>41.511523</td>\n",
       "      <td>0.079019</td>\n",
       "      <td>23.0</td>\n",
       "      <td>0</td>\n",
       "    </tr>\n",
       "    <tr>\n",
       "      <th>3</th>\n",
       "      <td>1883350</td>\n",
       "      <td>9</td>\n",
       "      <td>6.686501</td>\n",
       "      <td>78</td>\n",
       "      <td>25</td>\n",
       "      <td>304</td>\n",
       "      <td>29.582192</td>\n",
       "      <td>1.282870</td>\n",
       "      <td>43.0</td>\n",
       "      <td>1</td>\n",
       "    </tr>\n",
       "    <tr>\n",
       "      <th>4</th>\n",
       "      <td>1424119</td>\n",
       "      <td>1</td>\n",
       "      <td>6.409391</td>\n",
       "      <td>59</td>\n",
       "      <td>27</td>\n",
       "      <td>35</td>\n",
       "      <td>42.604536</td>\n",
       "      <td>NaN</td>\n",
       "      <td>22.0</td>\n",
       "      <td>0</td>\n",
       "    </tr>\n",
       "    <tr>\n",
       "      <th>...</th>\n",
       "      <td>...</td>\n",
       "      <td>...</td>\n",
       "      <td>...</td>\n",
       "      <td>...</td>\n",
       "      <td>...</td>\n",
       "      <td>...</td>\n",
       "      <td>...</td>\n",
       "      <td>...</td>\n",
       "      <td>...</td>\n",
       "      <td>...</td>\n",
       "    </tr>\n",
       "    <tr>\n",
       "      <th>10044</th>\n",
       "      <td>1424119</td>\n",
       "      <td>1</td>\n",
       "      <td>6.409391</td>\n",
       "      <td>59</td>\n",
       "      <td>27</td>\n",
       "      <td>35</td>\n",
       "      <td>42.604536</td>\n",
       "      <td>0.549542</td>\n",
       "      <td>22.0</td>\n",
       "      <td>0</td>\n",
       "    </tr>\n",
       "    <tr>\n",
       "      <th>10045</th>\n",
       "      <td>1619297</td>\n",
       "      <td>0</td>\n",
       "      <td>6.357552</td>\n",
       "      <td>92</td>\n",
       "      <td>9</td>\n",
       "      <td>253</td>\n",
       "      <td>19.724160</td>\n",
       "      <td>0.103424</td>\n",
       "      <td>26.0</td>\n",
       "      <td>0</td>\n",
       "    </tr>\n",
       "    <tr>\n",
       "      <th>10046</th>\n",
       "      <td>1660149</td>\n",
       "      <td>0</td>\n",
       "      <td>7.055282</td>\n",
       "      <td>47</td>\n",
       "      <td>19</td>\n",
       "      <td>227</td>\n",
       "      <td>21.941357</td>\n",
       "      <td>0.174160</td>\n",
       "      <td>21.0</td>\n",
       "      <td>0</td>\n",
       "    </tr>\n",
       "    <tr>\n",
       "      <th>10047</th>\n",
       "      <td>1458769</td>\n",
       "      <td>0</td>\n",
       "      <td>6.066089</td>\n",
       "      <td>87</td>\n",
       "      <td>43</td>\n",
       "      <td>36</td>\n",
       "      <td>18.277723</td>\n",
       "      <td>0.236165</td>\n",
       "      <td>26.0</td>\n",
       "      <td>0</td>\n",
       "    </tr>\n",
       "    <tr>\n",
       "      <th>10048</th>\n",
       "      <td>1201647</td>\n",
       "      <td>8</td>\n",
       "      <td>6.321928</td>\n",
       "      <td>95</td>\n",
       "      <td>33</td>\n",
       "      <td>24</td>\n",
       "      <td>26.624929</td>\n",
       "      <td>0.443947</td>\n",
       "      <td>53.0</td>\n",
       "      <td>1</td>\n",
       "    </tr>\n",
       "  </tbody>\n",
       "</table>\n",
       "<p>10049 rows × 10 columns</p>\n",
       "</div>"
      ],
      "text/plain": [
       "       PatientID  Pregnancies  PlasmaGlucose  DiastolicBloodPressure  \\\n",
       "0        1354778            0       7.417853                      80   \n",
       "1        1147438            8       6.523562                      93   \n",
       "2        1640031            7       6.845490                      47   \n",
       "3        1883350            9       6.686501                      78   \n",
       "4        1424119            1       6.409391                      59   \n",
       "...          ...          ...            ...                     ...   \n",
       "10044    1424119            1       6.409391                      59   \n",
       "10045    1619297            0       6.357552                      92   \n",
       "10046    1660149            0       7.055282                      47   \n",
       "10047    1458769            0       6.066089                      87   \n",
       "10048    1201647            8       6.321928                      95   \n",
       "\n",
       "       TricepsThickness  SerumInsulin        BMI  DiabetesPedigree   Age  \\\n",
       "0                    34            23  43.509726               NaN  21.0   \n",
       "1                    47            36  21.240576               NaN  23.0   \n",
       "2                    52            35  41.511523          0.079019  23.0   \n",
       "3                    25           304  29.582192          1.282870  43.0   \n",
       "4                    27            35  42.604536               NaN  22.0   \n",
       "...                 ...           ...        ...               ...   ...   \n",
       "10044                27            35  42.604536          0.549542  22.0   \n",
       "10045                 9           253  19.724160          0.103424  26.0   \n",
       "10046                19           227  21.941357          0.174160  21.0   \n",
       "10047                43            36  18.277723          0.236165  26.0   \n",
       "10048                33            24  26.624929          0.443947  53.0   \n",
       "\n",
       "       Diabetic  \n",
       "0             0  \n",
       "1             0  \n",
       "2             0  \n",
       "3             1  \n",
       "4             0  \n",
       "...         ...  \n",
       "10044         0  \n",
       "10045         0  \n",
       "10046         0  \n",
       "10047         0  \n",
       "10048         1  \n",
       "\n",
       "[10049 rows x 10 columns]"
      ]
     },
     "execution_count": 133,
     "metadata": {},
     "output_type": "execute_result"
    }
   ],
   "source": [
    "dataset"
   ]
  },
  {
   "cell_type": "code",
   "execution_count": 135,
   "metadata": {},
   "outputs": [
    {
     "data": {
      "image/png": "[encoded data removed]",
      "text/plain": [
       "<Figure size 432x288 with 1 Axes>"
      ]
     },
     "metadata": {
      "needs_background": "light"
     },
     "output_type": "display_data"
    }
   ],
   "source": []
  },
  {
   "cell_type": "code",
   "execution_count": 152,
   "metadata": {},
   "outputs": [],
   "source": [
    "from pathlib import Path  \n",
    "filepath = Path('Datasets/cleaned.csv')  \n",
    "filepath.parent.mkdir(parents=True, exist_ok=True)  \n",
    "dataset.to_csv(filepath)  "
   ]
  },
  {
   "cell_type": "code",
   "execution_count": null,
   "metadata": {},
   "outputs": [],
   "source": []
  }
 ],
 "metadata": {
  "kernel_info": {
   "name": "python38-azureml"
  },
  "kernelspec": {
   "display_name": "Python 3.8 - AzureML",
   "language": "python",
   "name": "python38-azureml"
  },
  "language_info": {
   "codemirror_mode": {
    "name": "ipython",
    "version": 3
   },
   "file_extension": ".py",
   "mimetype": "text/x-python",
   "name": "python",
   "nbconvert_exporter": "python",
   "pygments_lexer": "ipython3",
   "version": "3.8.5"
  },
  "nteract": {
   "version": "nteract-front-end@1.0.0"
  }
 },
 "nbformat": 4,
 "nbformat_minor": 2
}
